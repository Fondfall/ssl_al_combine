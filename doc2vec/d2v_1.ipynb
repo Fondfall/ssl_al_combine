{
 "cells": [
  {
   "cell_type": "code",
   "execution_count": 15,
   "metadata": {
    "collapsed": true
   },
   "outputs": [],
   "source": [
    "'''\n",
    "参考代码：https://blog.csdn.net/weixin_42608414/article/details/88391760\n",
    "'''\n",
    "import re\n",
    "#定义删除除字母,数字，汉字以外的所有符号的函数\n",
    "def remove_punctuation(line):\n",
    "    line = str(line)\n",
    "    if line.strip()=='':\n",
    "        return ''\n",
    "    rule = re.compile(u\"[^a-zA-Z0-9\\u4E00-\\u9FA5]\")\n",
    "    line = rule.sub('',line)\n",
    "    return line\n",
    "\n",
    "#停用词列表\n",
    "def stopwordslist(filepath):\n",
    "    stopwords = [line.strip() for line in open(filepath, 'r', encoding='utf-8').readlines()]\n",
    "    return stopwords\n",
    "\n",
    "#加载停用词\n",
    "stopwords = stopwordslist(\"./stopwords.txt\")"
   ]
  },
  {
   "cell_type": "code",
   "execution_count": 18,
   "outputs": [
    {
     "name": "stdout",
     "output_type": "stream",
     "text": [
      "数据总量: 3664 .\n"
     ]
    },
    {
     "data": {
      "text/plain": "                                    text  label\n426   嗯，看懂了，但是运用泰勒公式原式分子是不是可以直接等于X十X一X一X      0\n2561                            极限为，看仔细嗷      1\n2502                         因为你替换后分母没求导      1\n3053                       这题怎么做这题怎么做，老师      3\n3530                                 为啥代      3\n1296                        求大佬帮助解答这两个问题      3\n1161             课后习题老师这个题第二个等号为什么可以化成这样      2\n1941                               x的导数是      1\n2451           你不要一次放这么多，你分开放出来我倒是可以给你详解      1\n2728                          好的，我知道了，谢谢      0",
      "text/html": "<div>\n<style scoped>\n    .dataframe tbody tr th:only-of-type {\n        vertical-align: middle;\n    }\n\n    .dataframe tbody tr th {\n        vertical-align: top;\n    }\n\n    .dataframe thead th {\n        text-align: right;\n    }\n</style>\n<table border=\"1\" class=\"dataframe\">\n  <thead>\n    <tr style=\"text-align: right;\">\n      <th></th>\n      <th>text</th>\n      <th>label</th>\n    </tr>\n  </thead>\n  <tbody>\n    <tr>\n      <th>426</th>\n      <td>嗯，看懂了，但是运用泰勒公式原式分子是不是可以直接等于X十X一X一X</td>\n      <td>0</td>\n    </tr>\n    <tr>\n      <th>2561</th>\n      <td>极限为，看仔细嗷</td>\n      <td>1</td>\n    </tr>\n    <tr>\n      <th>2502</th>\n      <td>因为你替换后分母没求导</td>\n      <td>1</td>\n    </tr>\n    <tr>\n      <th>3053</th>\n      <td>这题怎么做这题怎么做，老师</td>\n      <td>3</td>\n    </tr>\n    <tr>\n      <th>3530</th>\n      <td>为啥代</td>\n      <td>3</td>\n    </tr>\n    <tr>\n      <th>1296</th>\n      <td>求大佬帮助解答这两个问题</td>\n      <td>3</td>\n    </tr>\n    <tr>\n      <th>1161</th>\n      <td>课后习题老师这个题第二个等号为什么可以化成这样</td>\n      <td>2</td>\n    </tr>\n    <tr>\n      <th>1941</th>\n      <td>x的导数是</td>\n      <td>1</td>\n    </tr>\n    <tr>\n      <th>2451</th>\n      <td>你不要一次放这么多，你分开放出来我倒是可以给你详解</td>\n      <td>1</td>\n    </tr>\n    <tr>\n      <th>2728</th>\n      <td>好的，我知道了，谢谢</td>\n      <td>0</td>\n    </tr>\n  </tbody>\n</table>\n</div>"
     },
     "execution_count": 18,
     "metadata": {},
     "output_type": "execute_result"
    }
   ],
   "source": [
    "import pandas as pd\n",
    "df = pd.read_csv('./data_lite_big.csv')\n",
    "df=df[['text','label']]\n",
    "print(\"数据总量: %d .\" % len(df))\n",
    "df.sample(10)"
   ],
   "metadata": {
    "collapsed": false,
    "pycharm": {
     "name": "#%%\n"
    }
   }
  },
  {
   "cell_type": "code",
   "execution_count": 19,
   "outputs": [
    {
     "data": {
      "text/plain": "                                                text  label  \\\n0                               请问羊犬追逐问题是在哪一节啊多谢各位兄弟      2   \n1   洛必达法则习题本部分习题第一题，我做了很多遍都是，各位大佬有做出正确答案的吗可以帮萌新一把吗感谢      0   \n2                                           这个怎么做啊，求      3   \n3                                               直接带入      1   \n4  为什么B不等于即可怎么保证gx在某一段也不为呢为什么B不等于零我们可以保证gx在自变量的某一...      0   \n\n                                          clean_text  \\\n0                               请问羊犬追逐问题是在哪一节啊多谢各位兄弟   \n1     洛必达法则习题本部分习题第一题我做了很多遍都是各位大佬有做出正确答案的吗可以帮萌新一把吗感谢   \n2                                            这个怎么做啊求   \n3                                               直接带入   \n4  为什么B不等于即可怎么保证gx在某一段也不为呢为什么B不等于零我们可以保证gx在自变量的某一...   \n\n                                            cut_text  \n0       [请问, 羊犬, 追逐, 问题, 是, 在, 哪, 一节, 啊, 多谢, 各位, 兄弟]  \n1  [洛必达, 法则, 习题, 本, 部分, 习题, 第一, 题, 我, 做, 了, 很多遍, ...  \n2                                  [这个, 怎么, 做, 啊, 求]  \n3                                           [直接, 带入]  \n4  [为什么, B, 不, 等于, 即可, 怎么, 保证, gx, 在, 某, 一段, 也, 不...  ",
      "text/html": "<div>\n<style scoped>\n    .dataframe tbody tr th:only-of-type {\n        vertical-align: middle;\n    }\n\n    .dataframe tbody tr th {\n        vertical-align: top;\n    }\n\n    .dataframe thead th {\n        text-align: right;\n    }\n</style>\n<table border=\"1\" class=\"dataframe\">\n  <thead>\n    <tr style=\"text-align: right;\">\n      <th></th>\n      <th>text</th>\n      <th>label</th>\n      <th>clean_text</th>\n      <th>cut_text</th>\n    </tr>\n  </thead>\n  <tbody>\n    <tr>\n      <th>0</th>\n      <td>请问羊犬追逐问题是在哪一节啊多谢各位兄弟</td>\n      <td>2</td>\n      <td>请问羊犬追逐问题是在哪一节啊多谢各位兄弟</td>\n      <td>[请问, 羊犬, 追逐, 问题, 是, 在, 哪, 一节, 啊, 多谢, 各位, 兄弟]</td>\n    </tr>\n    <tr>\n      <th>1</th>\n      <td>洛必达法则习题本部分习题第一题，我做了很多遍都是，各位大佬有做出正确答案的吗可以帮萌新一把吗感谢</td>\n      <td>0</td>\n      <td>洛必达法则习题本部分习题第一题我做了很多遍都是各位大佬有做出正确答案的吗可以帮萌新一把吗感谢</td>\n      <td>[洛必达, 法则, 习题, 本, 部分, 习题, 第一, 题, 我, 做, 了, 很多遍, ...</td>\n    </tr>\n    <tr>\n      <th>2</th>\n      <td>这个怎么做啊，求</td>\n      <td>3</td>\n      <td>这个怎么做啊求</td>\n      <td>[这个, 怎么, 做, 啊, 求]</td>\n    </tr>\n    <tr>\n      <th>3</th>\n      <td>直接带入</td>\n      <td>1</td>\n      <td>直接带入</td>\n      <td>[直接, 带入]</td>\n    </tr>\n    <tr>\n      <th>4</th>\n      <td>为什么B不等于即可怎么保证gx在某一段也不为呢为什么B不等于零我们可以保证gx在自变量的某一...</td>\n      <td>0</td>\n      <td>为什么B不等于即可怎么保证gx在某一段也不为呢为什么B不等于零我们可以保证gx在自变量的某一...</td>\n      <td>[为什么, B, 不, 等于, 即可, 怎么, 保证, gx, 在, 某, 一段, 也, 不...</td>\n    </tr>\n  </tbody>\n</table>\n</div>"
     },
     "execution_count": 19,
     "metadata": {},
     "output_type": "execute_result"
    }
   ],
   "source": [
    "import jieba as jb\n",
    "#删除除字母,数字，汉字以外的所有符号\n",
    "df['clean_text'] = df['text'].apply(remove_punctuation)\n",
    "\n",
    "#分词，并过滤停用词\n",
    "# df['cut_review'] = df['clean_review'].apply(lambda x: \" \".join([w for w in list(jb.cut(x)) if w not in stopwords]))\n",
    "df['cut_text'] = df['clean_text'].apply(lambda x: [w for w in list(jb.cut(x)) if w not in stopwords])\n",
    "df.head()"
   ],
   "metadata": {
    "collapsed": false,
    "pycharm": {
     "name": "#%%\n"
    }
   }
  },
  {
   "cell_type": "code",
   "execution_count": 22,
   "outputs": [
    {
     "data": {
      "text/plain": "1758                      ([老师, 请问, 有没有, 方便, 的, 解法], [2])\n453              ([洛必达, 法则, 求, 极限, 的, 第九, 题, 怎么, 写], [2])\n1763                      ([老师, 有没有, 什么, 方便, 的, 方法], [2])\n2563                           ([为什么, 不能, 这么, 做, 呢], [2])\n3164                  ([老师, A, 不, 依赖, x, 是, 什么, 意思], [2])\n1207    ([我, 知道, 了, c, 不, 对, 因为, 所以, 极限, 为, 无穷大, 不, 存在...\n2120             ([如何, 判断, 用, 泰勒, 公式, 的, 几阶, 呢, 老师], [2])\n1186                                   ([什么, 是, 驻点], [2])\n3151    ([老师, 你好, 老师, 请问, 什么, 时候, 用, 泰勒, 公式, 什么, 时候, 用...\n2479                             ([哦, 懂, 了, 谢谢, 老师], [0])\ndtype: object"
     },
     "execution_count": 22,
     "metadata": {},
     "output_type": "execute_result"
    }
   ],
   "source": [
    "from gensim.models.doc2vec import TaggedDocument\n",
    "#创建标签化文档\n",
    "train_tagged = df.apply(\n",
    "    lambda r: TaggedDocument(words=r['cut_text'], tags=[r['label']]), axis=1)\n",
    "train_tagged.sample(10)"
   ],
   "metadata": {
    "collapsed": false,
    "pycharm": {
     "name": "#%%\n"
    }
   }
  },
  {
   "cell_type": "code",
   "execution_count": 79,
   "outputs": [
    {
     "name": "stderr",
     "output_type": "stream",
     "text": [
      "100%|██████████| 3664/3664 [00:00<00:00, 3611734.40it/s]\n"
     ]
    }
   ],
   "source": [
    "import multiprocessing\n",
    "from gensim.models import Doc2Vec\n",
    "from tqdm import tqdm\n",
    "\n",
    "model_dbow = Doc2Vec(dm=1, vector_size=300, negative=10, hs=0, min_count=2, sample = 1e-3, workers=4, window=3)"
   ],
   "metadata": {
    "collapsed": false,
    "pycharm": {
     "name": "#%%\n"
    }
   }
  },
  {
   "cell_type": "code",
   "execution_count": 80,
   "outputs": [
    {
     "name": "stderr",
     "output_type": "stream",
     "text": [
      "100%|██████████| 30/30 [03:39<00:00,  7.30s/it]\n"
     ]
    }
   ],
   "source": [
    "from sklearn import utils\n",
    "for epoch in tqdm(range(30)):\n",
    "    model_dbow.train(utils.shuffle([x for x in train_tagged.values]), total_examples=len(train_tagged.values), epochs=70)\n",
    "    model_dbow.alpha -= 0.002\n",
    "    model_dbow.min_alpha = model_dbow.alpha"
   ],
   "metadata": {
    "collapsed": false,
    "pycharm": {
     "name": "#%%\n"
    }
   }
  },
  {
   "cell_type": "code",
   "execution_count": 81,
   "outputs": [],
   "source": [
    "def vec_for_learning(model, tagged_docs):\n",
    "    sents = tagged_docs.values\n",
    "    targets, regressors = zip(*[(doc.tags[0], model.infer_vector(doc.words)) for doc in sents])\n",
    "    return targets, regressors\n",
    "\n",
    "y_train, X_train = vec_for_learning(model_dbow, train_tagged)"
   ],
   "metadata": {
    "collapsed": false,
    "pycharm": {
     "name": "#%%\n"
    }
   }
  },
  {
   "cell_type": "code",
   "execution_count": 83,
   "outputs": [],
   "source": [
    "import numpy as np\n",
    "X_train = list(X_train)\n",
    "y_train = np.array(y_train)"
   ],
   "metadata": {
    "collapsed": false,
    "pycharm": {
     "name": "#%%\n"
    }
   }
  },
  {
   "cell_type": "code",
   "execution_count": 84,
   "outputs": [],
   "source": [
    "import numpy as np\n",
    "\n",
    "total = np.concatenate((X_train, y_train.reshape(len(y_train), 1)), axis=1)\n",
    "tp = pd.DataFrame(total)\n",
    "# tp.to_csv(\"w2v.csv\", header=None, index=None)\n",
    "tp.to_csv(\"d2v.csv\", header=None, index=None)"
   ],
   "metadata": {
    "collapsed": false,
    "pycharm": {
     "name": "#%%\n"
    }
   }
  }
 ],
 "metadata": {
  "kernelspec": {
   "display_name": "Python 3",
   "language": "python",
   "name": "python3"
  },
  "language_info": {
   "codemirror_mode": {
    "name": "ipython",
    "version": 2
   },
   "file_extension": ".py",
   "mimetype": "text/x-python",
   "name": "python",
   "nbconvert_exporter": "python",
   "pygments_lexer": "ipython2",
   "version": "2.7.6"
  }
 },
 "nbformat": 4,
 "nbformat_minor": 0
}